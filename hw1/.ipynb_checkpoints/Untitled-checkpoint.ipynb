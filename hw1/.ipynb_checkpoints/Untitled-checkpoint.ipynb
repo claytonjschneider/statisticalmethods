{
 "cells": [
  {
   "cell_type": "code",
   "execution_count": null,
   "metadata": {},
   "outputs": [],
   "source": [
    "# Problem 1\n",
    "# Say your research deals with social networks. Your first step is to study the properties of the Facebook network of college students at CU-Boulder campus. The next step is to compare your findings to the national college student Facebook network.\n",
    "# a) What are the populations you are concerned with?\n",
    "# b) What is the relationship between these populations?\n",
    "# c) What are some of the characteristics of the networks you might consider? Pick three as an example.\n",
    "# d) If you had infinite time and resources, would you be able to measure these characteristics for every member of these populations?\n",
    "# e) Say you don't have infinite time and resources -- how would you go about estimating those population characteristics?"
   ]
  },
  {
   "cell_type": "code",
   "execution_count": null,
   "metadata": {},
   "outputs": [],
   "source": [
    "# Problem 2\n",
    "# You're working for a US public health surveillance team, keeping an eye on infectious diseases such as the flu in the US.\n",
    "# a) If your goal is to estimate the average yearly flu infection rate among those over 65 years of age in the US, what is the population you are working with?\n",
    "# b) Given that surveillance is done only via doctor's offices, what is the actual population of people whose infection rates you'll be observing?\n",
    "# c) What kind of estimates will you get? Can they be generalized to the entire population you'd like to be working with? Under what assumptions the answer is yes?"
   ]
  },
  {
   "cell_type": "code",
   "execution_count": null,
   "metadata": {},
   "outputs": [],
   "source": [
    "# Problem 3\n",
    "# a) What is the difference between mean, median, and mode? When would you prefer to use one and not the others?\n",
    "# b) What is the difference between standard deviation and range? When would you report one and not the other to communicate how variable the data are?"
   ]
  },
  {
   "cell_type": "code",
   "execution_count": null,
   "metadata": {},
   "outputs": [],
   "source": [
    "# Problem 4\n",
    "# A friend has given you a 2 pound bag of ordinary M&M's for your birthday. Incidentally, you've recently had a discussion with the same friend who is convinced that the blue ones are less frequent than the other 5 colors (red, yellow, green, orange and brown). You (and the rest of your friends) think that all colors are equally likely. The 2 pound bag has about 1200 M&M's. So to put the matter to rest, you actually counted the M&M's and found there were 1215 in the bag -- and you've found that there are 150 blue ones, 220 red, 230 yellow, 215 orange, 190 green, and 210 brown ones).\n",
    "# a) Sketch a histogram of the observed relative frequency of colors in that bag\n",
    "# b) If your friend is not correct (and you are), what would the true relative frequency of colors look like (sketch)\n",
    "# c) How many blue ones would you expect to see if all colors are equally likely?\n",
    "# d) Do you think your friend is right, based on the one bag evidence? Give a heuristic answer here - you don't need to be precise. What are some of the limitations of this one-bag \"evidence\" approach? In an ideal world, how would you design a study to test this more rigorously?"
   ]
  },
  {
   "cell_type": "code",
   "execution_count": null,
   "metadata": {},
   "outputs": [],
   "source": [
    "# Problem 5\n",
    "# The following dataset (sample size=40) is given to you for further analysis in a following text file.\n",
    "# a) Plot a default histogram in your favorite software package/program. How many bins does it plot by default for this dataset? What is the size of each bin?\n",
    "# b) Change the number of bins -- first use 10, then 20, and finally 25. What differences (if any) can you see between these histograms and your histogram from part (a)?\n",
    "# c) Change the starting point to -2, -1.5, and then -1.45 -- and plot a histogram with 25 bins for each. What differences do you see?\n",
    "# You can also do this problem by hand if you choose. Some programs might not let you change all these \"inputs\" - so if all else fails, sketches of histograms by hand will be accepted."
   ]
  },
  {
   "cell_type": "code",
   "execution_count": 6,
   "metadata": {},
   "outputs": [],
   "source": [
    "import matplotlib.pyplot as plt\n",
    "import pandas as pd\n",
    "import numpy as np"
   ]
  },
  {
   "cell_type": "code",
   "execution_count": 20,
   "metadata": {},
   "outputs": [
    {
     "data": {
      "text/html": [
       "<div>\n",
       "<style scoped>\n",
       "    .dataframe tbody tr th:only-of-type {\n",
       "        vertical-align: middle;\n",
       "    }\n",
       "\n",
       "    .dataframe tbody tr th {\n",
       "        vertical-align: top;\n",
       "    }\n",
       "\n",
       "    .dataframe thead th {\n",
       "        text-align: right;\n",
       "    }\n",
       "</style>\n",
       "<table border=\"1\" class=\"dataframe\">\n",
       "  <thead>\n",
       "    <tr style=\"text-align: right;\">\n",
       "      <th></th>\n",
       "      <th>brand</th>\n",
       "      <th>generic</th>\n",
       "    </tr>\n",
       "  </thead>\n",
       "  <tbody>\n",
       "    <tr>\n",
       "      <th>0</th>\n",
       "      <td>5.6</td>\n",
       "      <td>5.3</td>\n",
       "    </tr>\n",
       "    <tr>\n",
       "      <th>1</th>\n",
       "      <td>5.1</td>\n",
       "      <td>4.1</td>\n",
       "    </tr>\n",
       "    <tr>\n",
       "      <th>2</th>\n",
       "      <td>6.2</td>\n",
       "      <td>7.2</td>\n",
       "    </tr>\n",
       "    <tr>\n",
       "      <th>3</th>\n",
       "      <td>6.0</td>\n",
       "      <td>6.5</td>\n",
       "    </tr>\n",
       "    <tr>\n",
       "      <th>4</th>\n",
       "      <td>5.8</td>\n",
       "      <td>4.8</td>\n",
       "    </tr>\n",
       "    <tr>\n",
       "      <th>5</th>\n",
       "      <td>6.5</td>\n",
       "      <td>4.9</td>\n",
       "    </tr>\n",
       "    <tr>\n",
       "      <th>6</th>\n",
       "      <td>5.8</td>\n",
       "      <td>5.8</td>\n",
       "    </tr>\n",
       "    <tr>\n",
       "      <th>7</th>\n",
       "      <td>5.5</td>\n",
       "      <td>5.0</td>\n",
       "    </tr>\n",
       "  </tbody>\n",
       "</table>\n",
       "</div>"
      ],
      "text/plain": [
       "   brand  generic\n",
       "0    5.6      5.3\n",
       "1    5.1      4.1\n",
       "2    6.2      7.2\n",
       "3    6.0      6.5\n",
       "4    5.8      4.8\n",
       "5    6.5      4.9\n",
       "6    5.8      5.8\n",
       "7    5.5      5.0"
      ]
     },
     "execution_count": 20,
     "metadata": {},
     "output_type": "execute_result"
    }
   ],
   "source": [
    "ingredients = pd.read_csv(\"~/school/statisticalmethods/hw1/ingredient.csv\", index_col=False)\n",
    "ingredients"
   ]
  },
  {
   "cell_type": "code",
   "execution_count": 45,
   "metadata": {},
   "outputs": [
    {
     "data": {
      "text/html": [
       "<div>\n",
       "<style scoped>\n",
       "    .dataframe tbody tr th:only-of-type {\n",
       "        vertical-align: middle;\n",
       "    }\n",
       "\n",
       "    .dataframe tbody tr th {\n",
       "        vertical-align: top;\n",
       "    }\n",
       "\n",
       "    .dataframe thead th {\n",
       "        text-align: right;\n",
       "    }\n",
       "</style>\n",
       "<table border=\"1\" class=\"dataframe\">\n",
       "  <thead>\n",
       "    <tr style=\"text-align: right;\">\n",
       "      <th></th>\n",
       "      <th>brand</th>\n",
       "      <th>generic</th>\n",
       "    </tr>\n",
       "  </thead>\n",
       "  <tbody>\n",
       "    <tr>\n",
       "      <th>0</th>\n",
       "      <td>5.6</td>\n",
       "      <td>5.3</td>\n",
       "    </tr>\n",
       "    <tr>\n",
       "      <th>1</th>\n",
       "      <td>5.1</td>\n",
       "      <td>4.1</td>\n",
       "    </tr>\n",
       "    <tr>\n",
       "      <th>2</th>\n",
       "      <td>6.2</td>\n",
       "      <td>7.2</td>\n",
       "    </tr>\n",
       "    <tr>\n",
       "      <th>3</th>\n",
       "      <td>6.0</td>\n",
       "      <td>6.5</td>\n",
       "    </tr>\n",
       "    <tr>\n",
       "      <th>4</th>\n",
       "      <td>5.8</td>\n",
       "      <td>4.8</td>\n",
       "    </tr>\n",
       "    <tr>\n",
       "      <th>5</th>\n",
       "      <td>6.5</td>\n",
       "      <td>4.9</td>\n",
       "    </tr>\n",
       "    <tr>\n",
       "      <th>6</th>\n",
       "      <td>5.8</td>\n",
       "      <td>5.8</td>\n",
       "    </tr>\n",
       "    <tr>\n",
       "      <th>7</th>\n",
       "      <td>5.5</td>\n",
       "      <td>5.0</td>\n",
       "    </tr>\n",
       "  </tbody>\n",
       "</table>\n",
       "</div>"
      ],
      "text/plain": [
       "   brand  generic\n",
       "0    5.6      5.3\n",
       "1    5.1      4.1\n",
       "2    6.2      7.2\n",
       "3    6.0      6.5\n",
       "4    5.8      4.8\n",
       "5    6.5      4.9\n",
       "6    5.8      5.8\n",
       "7    5.5      5.0"
      ]
     },
     "execution_count": 45,
     "metadata": {},
     "output_type": "execute_result"
    }
   ],
   "source": [
    "ingredients[:]\n",
    "#brandmean = np.mean(ingredients[1,:])"
   ]
  },
  {
   "cell_type": "code",
   "execution_count": null,
   "metadata": {},
   "outputs": [],
   "source": [
    "\"\"\"\n",
    "Histograms\n",
    "Frequencies\n",
    "Central values (means, medians, modes)\n",
    "Spread (observed range, standard deviation, variance)\n",
    "Outliers\n",
    "\"\"\""
   ]
  }
 ],
 "metadata": {
  "kernelspec": {
   "display_name": "Python 3",
   "language": "python",
   "name": "python3"
  },
  "language_info": {
   "codemirror_mode": {
    "name": "ipython",
    "version": 3
   },
   "file_extension": ".py",
   "mimetype": "text/x-python",
   "name": "python",
   "nbconvert_exporter": "python",
   "pygments_lexer": "ipython3",
   "version": "3.7.3"
  }
 },
 "nbformat": 4,
 "nbformat_minor": 2
}
