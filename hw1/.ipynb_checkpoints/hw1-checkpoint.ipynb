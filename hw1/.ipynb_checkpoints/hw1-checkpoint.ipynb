{
 "cells": [
  {
   "cell_type": "code",
   "execution_count": 2,
   "metadata": {},
   "outputs": [],
   "source": [
    "# Problem 1\n",
    "# Say your research deals with social networks. Your first step is to study the properties of the Facebook network of college students at CU-Boulder campus. The next step is to compare your findings to the national college student Facebook network.\n",
    "# a) What are the populations you are concerned with?\n",
    "# b) What is the relationship between these populations?\n",
    "# c) What are some of the characteristics of the networks you might consider? Pick three as an example.\n",
    "# d) If you had infinite time and resources, would you be able to measure these characteristics for every member of these populations?\n",
    "# e) Say you don't have infinite time and resources -- how would you go about estimating those population characteristics?"
   ]
  },
  {
   "cell_type": "code",
   "execution_count": null,
   "metadata": {},
   "outputs": [],
   "source": [
    "#1a\n",
    "\"\"\"\n",
    "Students at CU Boulder who have a Facebook account, and college students in general who have a Facebook account\n",
    "\"\"\"\n",
    "\n",
    "#1b\n",
    "\"\"\"\n",
    "#     ans) \n",
    "\"\"\"\n",
    "\n",
    "#1c\n",
    "\"\"\"\n",
    "Average number of friends\n",
    "Average number of posts\n",
    "Frequency of posts containing photos\n",
    "\"\"\"\n",
    "\n",
    "#1d\n",
    "\"\"\"\n",
    "Yes, though the averages are population-level characteristics\n",
    "\"\"\"\n",
    "\n",
    "#1e\n",
    "\"\"\"\n",
    "I would take smaller, random populations from CU and several other randomly chosen schools\n",
    "\"\"\""
   ]
  },
  {
   "cell_type": "code",
   "execution_count": null,
   "metadata": {},
   "outputs": [],
   "source": [
    "# Problem 2\n",
    "# You're working for a US public health surveillance team, keeping an eye on infectious diseases such as the flu in the US.\n",
    "# a) If your goal is to estimate the average yearly flu infection rate among those over 65 years of age in the US, what is the population you are working with?\n",
    "# b) Given that surveillance is done only via doctor's offices, what is the actual population of people whose infection rates you'll be observing?\n",
    "# c) What kind of estimates will you get? Can they be generalized to the entire population you'd like to be working with? Under what assumptions the answer is yes?"
   ]
  },
  {
   "cell_type": "code",
   "execution_count": null,
   "metadata": {},
   "outputs": [],
   "source": [
    "#2a\n",
    "\"\"\"\n",
    "US citizens over the age of 65 who have medical access\n",
    "\"\"\"\n",
    "\n",
    "#2b\n",
    "\"\"\"\n",
    "The same, US citizens over the age of 65 who have medical access\n",
    "\"\"\"\n",
    "\n",
    "#2c\n",
    "\"\"\"\n",
    "#     ans) \n",
    "\"\"\""
   ]
  },
  {
   "cell_type": "code",
   "execution_count": 3,
   "metadata": {},
   "outputs": [],
   "source": [
    "# Problem 3\n",
    "# a) What is the difference between mean, median, and mode? When would you prefer to use one and not the others?\n",
    "# b) What is the difference between standard deviation and range? When would you report one and not the other to communicate how variable the data are?"
   ]
  },
  {
   "cell_type": "code",
   "execution_count": 66,
   "metadata": {},
   "outputs": [
    {
     "data": {
      "text/plain": [
       "'\\nRange is the difference between the two most outlier points in a dataset\\n#     ans)\\n'"
      ]
     },
     "execution_count": 66,
     "metadata": {},
     "output_type": "execute_result"
    }
   ],
   "source": [
    "#3a\n",
    "\"\"\"\n",
    "mean: the sum of all data points divided by the population size\n",
    "median: the middle-most data point after sorting a dataset\n",
    "mode: the most common data point\n",
    "You would do well to use a mean when your dataset is relatively balanced, with a normal distribution. In such a case, the mode or median would yield a similar result.\n",
    "If data was unevenly distributed, none of these averages would suffice to accurately represent the dataset. \n",
    "\"\"\"\n",
    "\n",
    "#3b\n",
    "\"\"\"\n",
    "Range is the difference between the two most outlier points in a dataset\n",
    "#     ans)\n",
    "\"\"\""
   ]
  },
  {
   "cell_type": "code",
   "execution_count": 59,
   "metadata": {},
   "outputs": [],
   "source": [
    "# Problem 4\n",
    "# A friend has given you a 2 pound bag of ordinary M&M's for your birthday. Incidentally, you've recently had a discussion with the same friend who is convinced that the blue ones are less frequent than the other 5 colors (red, yellow, green, orange and brown). You (and the rest of your friends) think that all colors are equally likely. The 2 pound bag has about 1200 M&M's. So to put the matter to rest, you actually counted the M&M's and found there were 1215 in the bag -- and you've found that there are 150 blue ones, 220 red, 230 yellow, 215 orange, 190 green, and 210 brown ones).\n",
    "# a) Sketch a histogram of the observed relative frequency of colors in that bag\n",
    "# b) If your friend is not correct (and you are), what would the true relative frequency of colors look like (sketch)\n",
    "# c) How many blue ones would you expect to see if all colors are equally likely?\n",
    "# d) Do you think your friend is right, based on the one bag evidence? Give a heuristic answer here - you don't need to be precise. What are some of the limitations of this one-bag \"evidence\" approach? In an ideal world, how would you design a study to test this more rigorously?"
   ]
  },
  {
   "cell_type": "code",
   "execution_count": 17,
   "metadata": {},
   "outputs": [],
   "source": [
    "import matplotlib.pyplot as plt\n",
    "import pandas as pd\n",
    "import numpy as np\n",
    "import seaborn as sns\n",
    "sns.set()"
   ]
  },
  {
   "cell_type": "code",
   "execution_count": 55,
   "metadata": {},
   "outputs": [],
   "source": [
    "colors = [\"blue\", \"red\", \"yellow\", \"green\", \"orange\", \"brown\"]\n",
    "counts = [150, 220, 230, 190, 215, 210]\n",
    "total = np.sum(counts)\n",
    "freqs = [100*count/total for count in counts]\n",
    "\n",
    "mnm = pd.DataFrame({\n",
    "    'color': colors,\n",
    "    'count': counts,\n",
    "    'observed frequency': freqs,\n",
    "    'theoretical frequency': [(1/len(colors)) for color in colors]})"
   ]
  },
  {
   "cell_type": "code",
   "execution_count": 52,
   "metadata": {},
   "outputs": [
    {
     "data": {
      "image/png": "[encoded data removed]",
      "text/plain": [
       "<Figure size 360x360 with 1 Axes>"
      ]
     },
     "metadata": {
      "needs_background": "light"
     },
     "output_type": "display_data"
    }
   ],
   "source": [
    "#4a\n",
    "observedData = sns.catplot(x=\"color\", y=\"observed frequency\", kind=\"bar\", palette=colors, data=mnm)"
   ]
  },
  {
   "cell_type": "code",
   "execution_count": 56,
   "metadata": {},
   "outputs": [
    {
     "data": {
      "image/png": "[encoded data removed]",
      "text/plain": [
       "<Figure size 360x360 with 1 Axes>"
      ]
     },
     "metadata": {
      "needs_background": "light"
     },
     "output_type": "display_data"
    }
   ],
   "source": [
    "#4b\n",
    "theoreticalData = sns.catplot(x=\"color\", y=\"theoretical frequency\", kind=\"bar\", palette=colors, data=mnm)"
   ]
  },
  {
   "cell_type": "code",
   "execution_count": 65,
   "metadata": {},
   "outputs": [
    {
     "name": "stdout",
     "output_type": "stream",
     "text": [
      "We would expect 202.5 blue MnMs.\n"
     ]
    },
    {
     "data": {
      "text/plain": [
       "\"\\nIt is very well possible that there are fewer blue MnMs produced. It could perhaps be cheaper to produce blue food coloring. Perhaps bags are made randomly from an equally distributed manufacturing process. To verify, we'd want to get a larger sample of data, with bags from various manufacturing facilities if possible. \\n\""
      ]
     },
     "execution_count": 65,
     "metadata": {},
     "output_type": "execute_result"
    }
   ],
   "source": [
    "#4c\n",
    "expectBlue = total / len(colors)\n",
    "print(\"We would expect\", expectBlue, \"blue MnMs.\")\n",
    "\n",
    "#4d\n",
    "\"\"\"\n",
    "It is very well possible that there are fewer blue MnMs produced. It could perhaps be cheaper to produce blue food coloring. Perhaps bags are made randomly from an equally distributed manufacturing process. To verify, we'd want to get a larger sample of data, with bags from various manufacturing facilities if possible. \n",
    "\"\"\""
   ]
  },
  {
   "cell_type": "code",
   "execution_count": 67,
   "metadata": {
    "scrolled": true
   },
   "outputs": [],
   "source": [
    "# Problem 5\n",
    "# The following dataset (sample size=40) is given to you for further analysis in a following text file.\n",
    "# a) Plot a default histogram in your favorite software package/program. How many bins does it plot by default for this dataset? What is the size of each bin?\n",
    "# b) Change the number of bins -- first use 10, then 20, and finally 25. What differences (if any) can you see between these histograms and your histogram from part (a)?\n",
    "# c) Change the starting point to -2, -1.5, and then -1.45 -- and plot a histogram with 25 bins for each. What differences do you see?\n",
    "# You can also do this problem by hand if you choose. Some programs might not let you change all these \"inputs\" - so if all else fails, sketches of histograms by hand will be accepted."
   ]
  },
  {
   "cell_type": "code",
   "execution_count": 68,
   "metadata": {},
   "outputs": [],
   "source": [
    "for line in open('/home/clayton/school/statisticalmethods/hw1/numbers.txt'):\n",
    "    numbers = line.split()"
   ]
  },
  {
   "cell_type": "code",
   "execution_count": null,
   "metadata": {},
   "outputs": [],
   "source": []
  },
  {
   "cell_type": "code",
   "execution_count": null,
   "metadata": {},
   "outputs": [],
   "source": [
    "\"\"\"\n",
    "Histograms\n",
    "Frequencies\n",
    "Central values (means, medians, modes)\n",
    "Spread (observed range, standard deviation, variance)\n",
    "Outliers\n",
    "\"\"\""
   ]
  }
 ],
 "metadata": {
  "kernelspec": {
   "display_name": "Python 3",
   "language": "python",
   "name": "python3"
  },
  "language_info": {
   "codemirror_mode": {
    "name": "ipython",
    "version": 3
   },
   "file_extension": ".py",
   "mimetype": "text/x-python",
   "name": "python",
   "nbconvert_exporter": "python",
   "pygments_lexer": "ipython3",
   "version": "3.7.3"
  }
 },
 "nbformat": 4,
 "nbformat_minor": 2
}
